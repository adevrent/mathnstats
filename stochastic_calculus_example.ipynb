{
 "cells": [
  {
   "cell_type": "code",
   "execution_count": 32,
   "metadata": {},
   "outputs": [
    {
     "data": {
      "text/plain": [
       "\"\\nConsider a particle moving along a line, whose position at time t is given by the random variable X(t). We can describe the evolution of the particle's \\nposition over time using a stochastic differential equation:\\n\\nx(t) = μdt + σdW(t)\\n\\nIn this equation, μ and σ are constants, and dW(t) is a small change in a standard Brownian motion process W(t). \\nThis equation describes how the position of the particle changes over time due to both deterministic and random influences.\\n\\nNow, consider a different particle moving along the same line, but this time we assume that the motion of the particle is deterministic. \\nWe can describe the evolution of the particle's position over time using a standard differential equation:\\n\\ndx(t) = vdt\\n\\nIn this equation, v is the constant velocity of the particle. This equation describes how the position of the particle changes over time due to a constant velocity, \\nwith no random influences.\\n\\nWe can see that the two equations are similar, but the stochastic differential equation includes an additional term (σdW(t)) that represents the influence of randomness. \\nThis is one way in which a stochastic process differs from a process described with standard calculus.\\n\\n\""
      ]
     },
     "execution_count": 32,
     "metadata": {},
     "output_type": "execute_result"
    }
   ],
   "source": [
    "'''\n",
    "Consider a particle moving along a line, whose position at time t is given by the random variable X(t). We can describe the evolution of the particle's \n",
    "position over time using a stochastic differential equation:\n",
    "\n",
    "x(t) = μdt + σdW(t)\n",
    "\n",
    "In this equation, μ and σ are constants, and dW(t) is a small change in a standard Brownian motion process W(t). \n",
    "This equation describes how the position of the particle changes over time due to both deterministic and random influences.\n",
    "\n",
    "Now, consider a different particle moving along the same line, but this time we assume that the motion of the particle is deterministic. \n",
    "We can describe the evolution of the particle's position over time using a standard differential equation:\n",
    "\n",
    "dx(t) = vdt\n",
    "\n",
    "In this equation, v is the constant velocity of the particle. This equation describes how the position of the particle changes over time due to a constant velocity, \n",
    "with no random influences.\n",
    "\n",
    "We can see that the two equations are similar, but the stochastic differential equation includes an additional term (σdW(t)) that represents the influence of randomness. \n",
    "This is one way in which a stochastic process differs from a process described with standard calculus.\n",
    "\n",
    "'''\n"
   ]
  },
  {
   "cell_type": "code",
   "execution_count": 33,
   "metadata": {},
   "outputs": [],
   "source": [
    "import numpy as np\n",
    "import matplotlib.pyplot as plt\n",
    "\n",
    "# Parameters\n",
    "mu = 1.0 # Drift\n",
    "sigma = 0.2 # Volatility\n",
    "dt = 0.01 # Time step\n",
    "T = 1.0 # Total time\n",
    "\n",
    "# Stochastic process\n",
    "n_steps = int(T / dt)\n",
    "t = np.arange(0, T, dt)\n",
    "W = np.random.standard_normal(size=n_steps) # Standard Brownian motion\n",
    "W = np.cumsum(W) * np.sqrt(dt) # Convert to Wiener process\n",
    "X = (mu - 0.5 * sigma**2) * t + sigma * W\n",
    "\n",
    "# Deterministic process\n",
    "v = 1.0 # Velocity\n",
    "Y = v * t"
   ]
  },
  {
   "cell_type": "code",
   "execution_count": 34,
   "metadata": {},
   "outputs": [
    {
     "data": {
      "text/plain": [
       "array([-0.1608338 , -0.10236797,  0.01400576, -0.0370028 , -0.07515929,\n",
       "       -0.15405098, -0.15675633, -0.15209325, -0.26400606, -0.29355378,\n",
       "       -0.34290524, -0.31368517, -0.33202192, -0.35988649, -0.31470265,\n",
       "       -0.08527475, -0.13029278, -0.29453834, -0.33522671, -0.1772853 ,\n",
       "       -0.15316981, -0.21888562, -0.36953787, -0.57390273, -0.66482101,\n",
       "       -0.61823642, -0.70967513, -0.43562929, -0.46149719, -0.62619458,\n",
       "       -0.8701901 , -0.90060513, -0.99896365, -0.9701112 , -0.93584955,\n",
       "       -0.85013552, -0.67455634, -0.69384191, -0.74782387, -0.90225134,\n",
       "       -0.91808088, -0.94949252, -1.028665  , -1.02656137, -1.02593357,\n",
       "       -0.99234129, -1.11532442, -1.1844696 , -1.32786835, -1.33407911,\n",
       "       -1.35407437, -1.24320681, -1.31436622, -1.3002067 , -1.31726241,\n",
       "       -1.36697368, -1.33589719, -1.29177474, -1.05838523, -1.15665526,\n",
       "       -1.006764  , -0.89918516, -0.73093528, -0.81826584, -0.78020363,\n",
       "       -0.8862704 , -0.82516604, -0.63463123, -0.55327749, -0.66972594,\n",
       "       -0.69115756, -0.66189   , -0.76728569, -0.87130936, -0.78762724,\n",
       "       -0.82014651, -0.93464346, -0.93189895, -1.07251242, -1.08063968,\n",
       "       -0.98790584, -1.06513206, -1.15883529, -1.16387143, -1.31640595,\n",
       "       -1.50345144, -1.54121979, -1.38539181, -1.27935379, -1.33287986,\n",
       "       -1.42130771, -1.31203849, -1.52689153, -1.50087136, -1.6745095 ,\n",
       "       -1.70592355, -1.75651359, -1.6671064 , -1.66740685, -1.54494543])"
      ]
     },
     "execution_count": 34,
     "metadata": {},
     "output_type": "execute_result"
    }
   ],
   "source": [
    "W"
   ]
  },
  {
   "cell_type": "code",
   "execution_count": 35,
   "metadata": {},
   "outputs": [
    {
     "data": {
      "image/png": "[encoded data removed]",
      "text/plain": [
       "<Figure size 432x288 with 1 Axes>"
      ]
     },
     "metadata": {
      "needs_background": "light"
     },
     "output_type": "display_data"
    }
   ],
   "source": [
    "# Plot the processes\n",
    "plt.plot(t, X, label='Stochastic process')\n",
    "plt.plot(t, Y, label='Deterministic process')\n",
    "plt.xlabel('Time')\n",
    "plt.ylabel('Position')\n",
    "plt.legend()\n",
    "plt.show()"
   ]
  }
 ],
 "metadata": {
  "kernelspec": {
   "display_name": "Python 3",
   "language": "python",
   "name": "python3"
  },
  "language_info": {
   "codemirror_mode": {
    "name": "ipython",
    "version": 3
   },
   "file_extension": ".py",
   "mimetype": "text/x-python",
   "name": "python",
   "nbconvert_exporter": "python",
   "pygments_lexer": "ipython3",
   "version": "3.10.5"
  },
  "orig_nbformat": 4,
  "vscode": {
   "interpreter": {
    "hash": "63dad421a79b07ba21fceab07671fcec5ca6829179a621673b010b0b1dc8bd66"
   }
  }
 },
 "nbformat": 4,
 "nbformat_minor": 2
}
